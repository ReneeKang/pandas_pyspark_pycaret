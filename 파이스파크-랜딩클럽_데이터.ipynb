{
 "cells": [
  {
   "cell_type": "code",
   "execution_count": null,
   "id": "58f03296-606e-488b-b5e0-6559fdb14082",
   "metadata": {},
   "outputs": [],
   "source": []
  },
  {
   "cell_type": "code",
   "execution_count": 14,
   "id": "b0007f45-a1b7-4768-a91b-da6767348ce2",
   "metadata": {},
   "outputs": [],
   "source": [
    "import pandas as pd\n",
    "import re\n",
    "import numpy as np\n",
    "import sqlite3\n",
    "import os\n"
   ]
  },
  {
   "cell_type": "code",
   "execution_count": null,
   "id": "d6388c7e-ff8d-467c-bb38-cff4f71db21a",
   "metadata": {},
   "outputs": [],
   "source": []
  },
  {
   "cell_type": "markdown",
   "id": "adb369d4-8eb9-43b6-890a-46b158fdcf91",
   "metadata": {},
   "source": [
    "## 10 스파크를 사용해서 데이터베이스 처리해보기"
   ]
  },
  {
   "cell_type": "markdown",
   "id": "4b64bc3a-faf3-49db-88eb-d6318a44b8a5",
   "metadata": {},
   "source": [
    "### 파이스파크 설치\n",
    "pip install pyspark"
   ]
  },
  {
   "cell_type": "markdown",
   "id": "2f4ba5ab-b772-450b-919c-b441d1ca436c",
   "metadata": {},
   "source": [
    "### 10-1 데이터베이스 접근을 위한 스파크 세션 처리"
   ]
  },
  {
   "cell_type": "code",
   "execution_count": 3,
   "id": "d55bac29-576b-4532-b77f-cc2f048190ee",
   "metadata": {},
   "outputs": [
    {
     "name": "stdout",
     "output_type": "stream",
     "text": [
      ":: loading settings :: url = jar:file:/Users/renee/anaconda3/envs/pycaret_env/lib/python3.9/site-packages/pyspark/jars/ivy-2.5.1.jar!/org/apache/ivy/core/settings/ivysettings.xml\n"
     ]
    },
    {
     "name": "stderr",
     "output_type": "stream",
     "text": [
      "Ivy Default Cache set to: /Users/renee/.ivy2/cache\n",
      "The jars for the packages stored in: /Users/renee/.ivy2/jars\n",
      "org.xerial#sqlite-jdbc added as a dependency\n",
      ":: resolving dependencies :: org.apache.spark#spark-submit-parent-10e56845-f896-45dd-8415-855b82f6c5e0;1.0\n",
      "\tconfs: [default]\n",
      "\tfound org.xerial#sqlite-jdbc;3.34.0 in central\n",
      "downloading https://repo1.maven.org/maven2/org/xerial/sqlite-jdbc/3.34.0/sqlite-jdbc-3.34.0.jar ...\n",
      "\t[SUCCESSFUL ] org.xerial#sqlite-jdbc;3.34.0!sqlite-jdbc.jar (1619ms)\n",
      ":: resolution report :: resolve 3089ms :: artifacts dl 1623ms\n",
      "\t:: modules in use:\n",
      "\torg.xerial#sqlite-jdbc;3.34.0 from central in [default]\n",
      "\t---------------------------------------------------------------------\n",
      "\t|                  |            modules            ||   artifacts   |\n",
      "\t|       conf       | number| search|dwnlded|evicted|| number|dwnlded|\n",
      "\t---------------------------------------------------------------------\n",
      "\t|      default     |   1   |   1   |   1   |   0   ||   1   |   1   |\n",
      "\t---------------------------------------------------------------------\n",
      ":: retrieving :: org.apache.spark#spark-submit-parent-10e56845-f896-45dd-8415-855b82f6c5e0\n",
      "\tconfs: [default]\n",
      "\t1 artifacts copied, 0 already retrieved (7125kB/15ms)\n",
      "24/09/05 15:48:00 WARN NativeCodeLoader: Unable to load native-hadoop library for your platform... using builtin-java classes where applicable\n",
      "Setting default log level to \"WARN\".\n",
      "To adjust logging level use sc.setLogLevel(newLevel). For SparkR, use setLogLevel(newLevel).\n"
     ]
    }
   ],
   "source": [
    "from pyspark.sql import SparkSession\n",
    "\n",
    "spark = (SparkSession.builder\n",
    "           .config('spark.jars.packages', 'org.xerial:sqlite-jdbc:3.34.0')\n",
    "           .config(\"spark.driver.host\",\"127.0.0.1\") \n",
    "           .config(\"spark.driver.bindAddress\",\"127.0.0.1\")\n",
    "           .master(\"local\")\n",
    "           .appName(\"PySpark_test\")\n",
    "           .getOrCreate())"
   ]
  },
  {
   "cell_type": "code",
   "execution_count": null,
   "id": "205ac929-f2dc-4c8c-a928-4ed03049b851",
   "metadata": {},
   "outputs": [],
   "source": []
  },
  {
   "cell_type": "code",
   "execution_count": 4,
   "id": "b244ae56-53f5-4e62-95e7-eb9caf7ae880",
   "metadata": {},
   "outputs": [],
   "source": [
    "spark.conf.set('spark.sql.repl.eagerEval.enabled', True)"
   ]
  },
  {
   "cell_type": "code",
   "execution_count": null,
   "id": "02ddd46c-dc7a-48be-b440-4cf69b222f81",
   "metadata": {},
   "outputs": [],
   "source": []
  },
  {
   "cell_type": "markdown",
   "id": "6848e084-b149-4bd9-8e48-bbf41a984449",
   "metadata": {},
   "source": [
    "### 10-2 데이터베이스 처리"
   ]
  },
  {
   "cell_type": "code",
   "execution_count": null,
   "id": "e617bd21-612c-40ea-840c-ade4940aa835",
   "metadata": {},
   "outputs": [],
   "source": [
    "### 데이터베이스 접근"
   ]
  },
  {
   "cell_type": "code",
   "execution_count": 7,
   "id": "38405746-c3a9-40be-8c02-1fdf4c0c7886",
   "metadata": {},
   "outputs": [],
   "source": [
    "path_db1 = \"./lending_club_data/sql_db/lending_club_2012_hw2.db\""
   ]
  },
  {
   "cell_type": "code",
   "execution_count": 8,
   "id": "ba1630ad-4104-4438-8db5-a359b86cf67c",
   "metadata": {},
   "outputs": [],
   "source": [
    "### 특정 테이블을 직접 읽기"
   ]
  },
  {
   "cell_type": "code",
   "execution_count": 9,
   "id": "33fdf0c4-2b9d-4e1d-a327-2d37142800a3",
   "metadata": {},
   "outputs": [],
   "source": [
    "df = (spark.read.format('jdbc') \n",
    "        .options(driver='org.sqlite.JDBC', dbtable='borrower',\n",
    "                 url='jdbc:sqlite:'+path_db1)\n",
    "        .load())"
   ]
  },
  {
   "cell_type": "code",
   "execution_count": 10,
   "id": "f3de1c38-65e7-4512-a27f-dcd75385d3a2",
   "metadata": {},
   "outputs": [
    {
     "data": {
      "text/plain": [
       "53367"
      ]
     },
     "execution_count": 10,
     "metadata": {},
     "output_type": "execute_result"
    }
   ],
   "source": [
    "df.count()"
   ]
  },
  {
   "cell_type": "code",
   "execution_count": 11,
   "id": "d93f8dc2-4bd9-429d-a4f6-fb7f1efc41ac",
   "metadata": {},
   "outputs": [
    {
     "data": {
      "text/plain": [
       "['id', '직업명', '근무연차 ', '주택소유', '우편번호', '거주국가', '회원번호']"
      ]
     },
     "execution_count": 11,
     "metadata": {},
     "output_type": "execute_result"
    }
   ],
   "source": [
    "df.columns"
   ]
  },
  {
   "cell_type": "code",
   "execution_count": null,
   "id": "a45a3cd0-2616-4e36-9ee1-25ea27f793bd",
   "metadata": {},
   "outputs": [],
   "source": []
  },
  {
   "cell_type": "code",
   "execution_count": 12,
   "id": "43a12274-325e-4a68-b17b-581aaa6242d6",
   "metadata": {},
   "outputs": [],
   "source": [
    "### 스파크 세션을 다시 만들기"
   ]
  },
  {
   "cell_type": "code",
   "execution_count": 15,
   "id": "8345b11a-6a6c-4792-ab73-95cd4700abd7",
   "metadata": {},
   "outputs": [
    {
     "name": "stderr",
     "output_type": "stream",
     "text": [
      "24/09/05 15:51:25 WARN SparkSession: Using an existing Spark session; only runtime SQL configurations will take effect.\n"
     ]
    }
   ],
   "source": [
    "spark1 = (SparkSession.builder\n",
    "    .master(\"local\")\n",
    "    .appName(\"SQLite JDBC\")\n",
    "    .config(\"spark.sql.encoding\", \"UTF-8\") \n",
    "    .config(\n",
    "        \"spark.jars\",\n",
    "        \"{}/sqlite-jdbc-3.34.0.jar\".format(os.getcwd()))\n",
    "    .config(\n",
    "        \"spark.driver.extraClassPath\",\n",
    "        \"{}/sqlite-jdbc-3.34.0.jar\".format(os.getcwd()))\n",
    "    .getOrCreate())"
   ]
  },
  {
   "cell_type": "code",
   "execution_count": 17,
   "id": "2a324f57-a329-4dd0-9127-68996e159a31",
   "metadata": {},
   "outputs": [
    {
     "data": {
      "text/html": [
       "\n",
       "            <div>\n",
       "                <p><b>SparkSession - in-memory</b></p>\n",
       "                \n",
       "        <div>\n",
       "            <p><b>SparkContext</b></p>\n",
       "\n",
       "            <p><a href=\"http://127.0.0.1:4040\">Spark UI</a></p>\n",
       "\n",
       "            <dl>\n",
       "              <dt>Version</dt>\n",
       "                <dd><code>v3.5.2</code></dd>\n",
       "              <dt>Master</dt>\n",
       "                <dd><code>local</code></dd>\n",
       "              <dt>AppName</dt>\n",
       "                <dd><code>PySpark_test</code></dd>\n",
       "            </dl>\n",
       "        </div>\n",
       "        \n",
       "            </div>\n",
       "        "
      ],
      "text/plain": [
       "<pyspark.sql.session.SparkSession at 0x104e51940>"
      ]
     },
     "execution_count": 17,
     "metadata": {},
     "output_type": "execute_result"
    }
   ],
   "source": [
    "spark1"
   ]
  },
  {
   "cell_type": "code",
   "execution_count": null,
   "id": "669b6886-eba5-4159-8ac3-3a59aa367942",
   "metadata": {},
   "outputs": [],
   "source": []
  },
  {
   "cell_type": "code",
   "execution_count": 18,
   "id": "ae125479-db94-4564-93ec-50f8ff10372b",
   "metadata": {},
   "outputs": [],
   "source": [
    "driver='org.sqlite.JDBC'\n",
    "url='jdbc:sqlite:'+path_db1"
   ]
  },
  {
   "cell_type": "code",
   "execution_count": null,
   "id": "4ac24814-1b75-428c-8789-9425a2daeb28",
   "metadata": {},
   "outputs": [],
   "source": []
  },
  {
   "cell_type": "code",
   "execution_count": 19,
   "id": "900ca8f4-2279-471d-a9b1-301a5dba3ecc",
   "metadata": {},
   "outputs": [],
   "source": [
    "### 10-3 데이터베이스 내의 테이블 확인하기"
   ]
  },
  {
   "cell_type": "code",
   "execution_count": 22,
   "id": "ad1a1e7c-b5e9-4473-ba7e-88914de9cdf1",
   "metadata": {},
   "outputs": [],
   "source": [
    "sub_query = \"\"\"SELECT name \n",
    "           FROM sqlite_master \n",
    "           WHERE type IN ('table', 'view') AND name NOT LIKE 'sqlite_%' \"\"\""
   ]
  },
  {
   "cell_type": "code",
   "execution_count": null,
   "id": "c8e2ade9-9209-45c5-a745-be72dc2a5617",
   "metadata": {},
   "outputs": [],
   "source": []
  },
  {
   "cell_type": "code",
   "execution_count": 23,
   "id": "cc4d9328-47a9-4199-8e3d-220b10d5c6f8",
   "metadata": {},
   "outputs": [],
   "source": [
    "df2 = spark1 \\\n",
    "    .read \\\n",
    "    .format(\"jdbc\") \\\n",
    "    .option(\"driver\", driver) \\\n",
    "    .option(\"url\", url) \\\n",
    "    .option(\"query\", sub_query) \\\n",
    "    .load()"
   ]
  },
  {
   "cell_type": "code",
   "execution_count": 24,
   "id": "06e685f8-f351-4ddd-8aed-040343d5a56e",
   "metadata": {},
   "outputs": [
    {
     "name": "stdout",
     "output_type": "stream",
     "text": [
      "+-------------------+\n",
      "|               name|\n",
      "+-------------------+\n",
      "|           borrower|\n",
      "|             credit|\n",
      "|      credit_rating|\n",
      "|           hardship|\n",
      "|             income|\n",
      "|            inquiry|\n",
      "|        installment|\n",
      "|       loan_account|\n",
      "|            payment|\n",
      "|          revolving|\n",
      "|secondary_applicant|\n",
      "|         settlement|\n",
      "|              trade|\n",
      "+-------------------+\n",
      "\n"
     ]
    }
   ],
   "source": [
    "df2.show()"
   ]
  },
  {
   "cell_type": "code",
   "execution_count": null,
   "id": "5e64fa61-9e69-49f9-83c8-31d56b0741df",
   "metadata": {},
   "outputs": [],
   "source": []
  },
  {
   "cell_type": "code",
   "execution_count": 25,
   "id": "0fc07548-6fcc-4145-9796-6af093be2f91",
   "metadata": {},
   "outputs": [],
   "source": [
    "### 10-4 테이블 내의 데이터 확인하기"
   ]
  },
  {
   "cell_type": "code",
   "execution_count": 26,
   "id": "aca9e049-99ad-422c-a3c4-d0b9d23687c3",
   "metadata": {},
   "outputs": [],
   "source": [
    "query1 = \"select * from borrower limit 100\""
   ]
  },
  {
   "cell_type": "code",
   "execution_count": 27,
   "id": "7df886b8-c0eb-4af5-84bd-67ae162ce20c",
   "metadata": {},
   "outputs": [],
   "source": [
    "df1 = spark1 \\\n",
    "    .read \\\n",
    "    .format(\"jdbc\") \\\n",
    "    .option(\"driver\", driver) \\\n",
    "    .option(\"url\", url) \\\n",
    "    .option(\"query\", query1) \\\n",
    "    .load()"
   ]
  },
  {
   "cell_type": "code",
   "execution_count": 28,
   "id": "a7c0df1c-08b8-4c32-a641-b3465a8db61b",
   "metadata": {},
   "outputs": [
    {
     "name": "stdout",
     "output_type": "stream",
     "text": [
      "root\n",
      " |-- id: integer (nullable = true)\n",
      " |-- 직업명: string (nullable = true)\n",
      " |-- 근무연차 : string (nullable = true)\n",
      " |-- 주택소유: string (nullable = true)\n",
      " |-- 우편번호: string (nullable = true)\n",
      " |-- 거주국가: string (nullable = true)\n",
      " |-- 회원번호: double (nullable = true)\n",
      "\n"
     ]
    }
   ],
   "source": [
    "df1.printSchema()"
   ]
  },
  {
   "cell_type": "code",
   "execution_count": 29,
   "id": "7bd480b5-cfd8-48c2-ad1c-f22975e1246a",
   "metadata": {},
   "outputs": [
    {
     "data": {
      "text/plain": [
       "100"
      ]
     },
     "execution_count": 29,
     "metadata": {},
     "output_type": "execute_result"
    }
   ],
   "source": [
    "df1.count()"
   ]
  },
  {
   "cell_type": "code",
   "execution_count": 30,
   "id": "801c7a04-4ad6-49a5-9a3c-76d50b9908e5",
   "metadata": {},
   "outputs": [],
   "source": [
    "query2 = \"select * from credit limit 100\""
   ]
  },
  {
   "cell_type": "code",
   "execution_count": 31,
   "id": "b743b2f9-de3e-445d-9474-9b11d33d2319",
   "metadata": {},
   "outputs": [],
   "source": [
    "df2 = spark1 \\\n",
    "    .read \\\n",
    "    .format(\"jdbc\") \\\n",
    "    .option(\"driver\", driver) \\\n",
    "    .option(\"url\", url) \\\n",
    "    .option(\"query\", query2) \\\n",
    "    .load()"
   ]
  },
  {
   "cell_type": "code",
   "execution_count": 32,
   "id": "dc3a68eb-65a2-493b-accb-f1798b66524d",
   "metadata": {},
   "outputs": [
    {
     "name": "stdout",
     "output_type": "stream",
     "text": [
      "root\n",
      " |-- id: integer (nullable = true)\n",
      " |-- 세금체납금액: double (nullable = true)\n",
      " |-- 주택담도대출계좌수: double (nullable = true)\n",
      " |-- 연체계좌수: double (nullable = true)\n",
      " |-- 은행카드활동계좌개수: double (nullable = true)\n",
      " |-- 은행카드정상계좌개수: double (nullable = true)\n",
      " |-- 은행카드개수: double (nullable = true)\n",
      " |-- 은행카드정상개수: double (nullable = true)\n",
      " |-- 중기연체계좌개수: double (nullable = true)\n",
      " |-- 단기연체계좌개수: double (nullable = true)\n",
      " |-- 장기연체계좌개수: double (nullable = true)\n",
      " |-- 최근개설계좌개수: double (nullable = true)\n",
      " |-- 특정한도이상소진계좌비율: double (nullable = true)\n",
      " |-- 연체발생회수 : double (nullable = true)\n",
      " |-- 신용한도시작일자: string (nullable = true)\n",
      " |-- 신용한도개설기록횟수: double (nullable = true)\n",
      " |-- 신용이상기록횟수: double (nullable = true)\n",
      " |-- 리볼링잔액: double (nullable = true)\n",
      " |-- 리볼링사용비율: double (nullable = true)\n",
      " |-- 신용한도: double (nullable = true)\n",
      " |-- 신용한도총기록회수: string (nullable = true)\n",
      " |-- 신용한도잔액: double (nullable = true)\n",
      " |-- 총신용한도금액: double (nullable = true)\n",
      " |-- 신용한도금액: double (nullable = true)\n",
      " |-- 은행카드신요한도: double (nullable = true)\n",
      " |-- 추심횟수: double (nullable = true)\n",
      " |-- 연체횟수: double (nullable = true)\n",
      " |-- 파산기록횟수: double (nullable = true)\n",
      " |-- 세금유치권횟수: double (nullable = true)\n",
      " |-- 최종연체개월수: double (nullable = true)\n",
      " |-- 신용평가불랭이후개월수: double (nullable = true)\n",
      " |-- 최근연체발생후개월수: double (nullable = true)\n",
      " |-- 마지막거래이후개월수: double (nullable = true)\n",
      "\n"
     ]
    }
   ],
   "source": [
    "df2.printSchema()"
   ]
  },
  {
   "cell_type": "code",
   "execution_count": null,
   "id": "e59b8da9-ee6d-4348-8cf8-182590778b6c",
   "metadata": {},
   "outputs": [],
   "source": []
  },
  {
   "cell_type": "code",
   "execution_count": 33,
   "id": "8bbd9dd1-376d-46a4-8811-fa8eab5d9015",
   "metadata": {},
   "outputs": [],
   "source": [
    "### 10-5 스파크 코딩으로 조인처리 하기"
   ]
  },
  {
   "cell_type": "code",
   "execution_count": null,
   "id": "c9bd9890-ff09-4113-9137-c8f111fdf974",
   "metadata": {},
   "outputs": [],
   "source": [
    "### 각 테이블 읽어오기"
   ]
  },
  {
   "cell_type": "code",
   "execution_count": 34,
   "id": "cb3f6141-9eb1-45c3-b6af-3c451773e28c",
   "metadata": {},
   "outputs": [],
   "source": [
    "df_bw = (spark.read.format('jdbc') \n",
    "        .options(driver='org.sqlite.JDBC', dbtable='borrower',\n",
    "                 url='jdbc:sqlite:'+path_db1)\n",
    "        .load())"
   ]
  },
  {
   "cell_type": "code",
   "execution_count": 35,
   "id": "2f7c60dc-c41d-4722-b168-5afdc977900d",
   "metadata": {},
   "outputs": [],
   "source": [
    "df_ct = (spark.read.format('jdbc') \n",
    "        .options(driver='org.sqlite.JDBC', dbtable='credit',\n",
    "                 url='jdbc:sqlite:'+path_db1)\n",
    "        .load())"
   ]
  },
  {
   "cell_type": "code",
   "execution_count": 36,
   "id": "dda94a5b-72d9-4ed9-b83d-7a56af03a728",
   "metadata": {},
   "outputs": [],
   "source": [
    "# DataFrame을 사용하여 조인 수행\n",
    "joined_df = df_bw.join(df_ct, df_bw.id == df_ct.id, \"inner\")"
   ]
  },
  {
   "cell_type": "code",
   "execution_count": 37,
   "id": "17fee23e-68ca-47f6-b0fb-9a3a37ef89e9",
   "metadata": {},
   "outputs": [],
   "source": [
    "# 필요한 컬럼만 선택\n",
    "selected_df = joined_df.select(df_bw.id, df_bw['근무연차 '], df_ct.세금체납금액)"
   ]
  },
  {
   "cell_type": "code",
   "execution_count": 38,
   "id": "dd8d4e75-6f39-405b-b1af-10c7a08172e7",
   "metadata": {},
   "outputs": [
    {
     "name": "stdout",
     "output_type": "stream",
     "text": [
      "+-------+---------+------------+\n",
      "|     id|근무연차 |세금체납금액|\n",
      "+-------+---------+------------+\n",
      "|1422503|  2 years|         0.0|\n",
      "|2054650|  3 years|         0.0|\n",
      "|1283607|  4 years|         0.0|\n",
      "|1441362|10+ years|         0.0|\n",
      "|1465450|  5 years|         0.0|\n",
      "|2298372|  3 years|         0.0|\n",
      "|1207506|  3 years|         0.0|\n",
      "|1281854|10+ years|         0.0|\n",
      "|1435514| < 1 year|         0.0|\n",
      "|1075932|  2 years|         0.0|\n",
      "|1303972|  6 years|         0.0|\n",
      "|1677468|10+ years|         0.0|\n",
      "|2375142|10+ years|         0.0|\n",
      "|1565433|     NULL|         0.0|\n",
      "|2366398|     NULL|         0.0|\n",
      "|1549604|     NULL|         0.0|\n",
      "|1107801|  6 years|         0.0|\n",
      "|1955212|10+ years|         0.0|\n",
      "|1544732|  9 years|         0.0|\n",
      "|1076509|  6 years|         0.0|\n",
      "+-------+---------+------------+\n",
      "only showing top 20 rows\n",
      "\n"
     ]
    }
   ],
   "source": [
    "selected_df.show()"
   ]
  },
  {
   "cell_type": "code",
   "execution_count": null,
   "id": "f3d1ff62-ace4-41b0-a33d-faafe6f89f94",
   "metadata": {},
   "outputs": [],
   "source": []
  },
  {
   "cell_type": "code",
   "execution_count": 39,
   "id": "9045b5c6-9ec1-417a-88bb-b4718d1a08a3",
   "metadata": {},
   "outputs": [],
   "source": [
    "### 10-6 내부 뷰테이블을 만들고 조인하기"
   ]
  },
  {
   "cell_type": "code",
   "execution_count": null,
   "id": "0872fe1a-93b4-439b-bf76-9bbfed5041f2",
   "metadata": {},
   "outputs": [],
   "source": [
    "### 스파크 내부 뷰 만들기"
   ]
  },
  {
   "cell_type": "code",
   "execution_count": 41,
   "id": "6dd828dc-fbb2-4a31-bd5b-f01d0eedcfe6",
   "metadata": {},
   "outputs": [],
   "source": [
    "# DataFrame을 임시 테이블로 등록\n",
    "df_bw.createOrReplaceTempView(\"borrower\")\n",
    "df_ct.createOrReplaceTempView(\"credit\")"
   ]
  },
  {
   "cell_type": "code",
   "execution_count": null,
   "id": "5d17960a-5b4d-4ca1-93a4-99ade915578d",
   "metadata": {},
   "outputs": [],
   "source": []
  },
  {
   "cell_type": "code",
   "execution_count": 42,
   "id": "6498909c-410a-4804-b3f2-97875992b3cb",
   "metadata": {},
   "outputs": [],
   "source": [
    "### 스파크 세션에서 바로 쿼리로 처리하기"
   ]
  },
  {
   "cell_type": "markdown",
   "id": "a70a8eba-6ab3-460a-8f37-eb604e9ee34b",
   "metadata": {},
   "source": [
    "- 한글 칼럼을 처리할 때는 backticks(`) 감싸서 처리하기"
   ]
  },
  {
   "cell_type": "code",
   "execution_count": 43,
   "id": "15ee3a38-9b39-43d1-8e83-10a4ca33dc0f",
   "metadata": {},
   "outputs": [
    {
     "name": "stdout",
     "output_type": "stream",
     "text": [
      "+-------+---------+------------+\n",
      "|     id|근무연차 |세금체납금액|\n",
      "+-------+---------+------------+\n",
      "|1422503|  2 years|         0.0|\n",
      "|2054650|  3 years|         0.0|\n",
      "|1283607|  4 years|         0.0|\n",
      "|1441362|10+ years|         0.0|\n",
      "|1465450|  5 years|         0.0|\n",
      "|2298372|  3 years|         0.0|\n",
      "|1207506|  3 years|         0.0|\n",
      "|1281854|10+ years|         0.0|\n",
      "|1435514| < 1 year|         0.0|\n",
      "|1075932|  2 years|         0.0|\n",
      "|1303972|  6 years|         0.0|\n",
      "|1677468|10+ years|         0.0|\n",
      "|2375142|10+ years|         0.0|\n",
      "|1565433|     NULL|         0.0|\n",
      "|2366398|     NULL|         0.0|\n",
      "|1549604|     NULL|         0.0|\n",
      "|1107801|  6 years|         0.0|\n",
      "|1955212|10+ years|         0.0|\n",
      "|1544732|  9 years|         0.0|\n",
      "|1076509|  6 years|         0.0|\n",
      "+-------+---------+------------+\n",
      "only showing top 20 rows\n",
      "\n"
     ]
    }
   ],
   "source": [
    "# SQL 쿼리를 사용하여 조인\n",
    "result_df = spark.sql(\"\"\"\n",
    "    SELECT b.id, b.`근무연차 `, c.`세금체납금액`\n",
    "    FROM borrower b\n",
    "    JOIN credit c ON b.id = c.id\n",
    "\"\"\")\n",
    "\n",
    "# 결과 출력\n",
    "result_df.show()"
   ]
  },
  {
   "cell_type": "code",
   "execution_count": null,
   "id": "0adb912e-c681-47be-8762-05473fb67d65",
   "metadata": {},
   "outputs": [],
   "source": []
  },
  {
   "cell_type": "code",
   "execution_count": null,
   "id": "97f16459-391c-40e7-8367-db2ab3acc2ef",
   "metadata": {},
   "outputs": [],
   "source": []
  },
  {
   "cell_type": "code",
   "execution_count": null,
   "id": "9638ba76-cf73-4a86-878c-3a504cad5c67",
   "metadata": {},
   "outputs": [],
   "source": []
  },
  {
   "cell_type": "code",
   "execution_count": null,
   "id": "c00d609a-e0a9-4f21-bcb2-6ae3a3100a6e",
   "metadata": {},
   "outputs": [],
   "source": []
  },
  {
   "cell_type": "code",
   "execution_count": null,
   "id": "b7f3393e-0b53-4532-988a-43b2462e2865",
   "metadata": {},
   "outputs": [],
   "source": []
  }
 ],
 "metadata": {
  "kernelspec": {
   "display_name": "pycaret_env",
   "language": "python",
   "name": "pycaret_env"
  },
  "language_info": {
   "codemirror_mode": {
    "name": "ipython",
    "version": 3
   },
   "file_extension": ".py",
   "mimetype": "text/x-python",
   "name": "python",
   "nbconvert_exporter": "python",
   "pygments_lexer": "ipython3",
   "version": "3.9.19"
  }
 },
 "nbformat": 4,
 "nbformat_minor": 5
}
